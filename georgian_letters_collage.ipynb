{
 "cells": [
  {
   "cell_type": "code",
   "execution_count": 1,
   "id": "5da76edb",
   "metadata": {},
   "outputs": [],
   "source": [
    "import cv2\n",
    "import os\n",
    "import numpy as np"
   ]
  },
  {
   "cell_type": "code",
   "execution_count": 8,
   "id": "c018cbf4",
   "metadata": {},
   "outputs": [],
   "source": [
    "# მონაცემთა მეცნიერი = data scientist\n",
    "\n",
    "str_1 = \"მონაცემთა\"\n",
    "str_2 = \"მეცნიერი\""
   ]
  },
  {
   "cell_type": "code",
   "execution_count": 5,
   "id": "38b2056c",
   "metadata": {},
   "outputs": [],
   "source": [
    "dir_name = \"georgian_letters/\"\n",
    "dir_list = os.listdir(dir_name)\n",
    "\n",
    "e_list = []\n",
    "\n",
    "for d in dir_list:\n",
    "    if 'ე' in d:\n",
    "        d_read = cv2.imread(dir_name + d, cv2.IMREAD_GRAYSCALE)\n",
    "        e_list.append(d_read)\n"
   ]
  },
  {
   "cell_type": "code",
   "execution_count": 6,
   "id": "5e7c2c87",
   "metadata": {},
   "outputs": [
    {
     "data": {
      "text/plain": [
       "array([[255, 255, 255, ..., 255, 255, 255],\n",
       "       [255, 255, 255, ..., 255, 252, 254],\n",
       "       [255, 255, 255, ..., 251, 255, 255],\n",
       "       ...,\n",
       "       [255, 255, 250, ..., 255, 255, 253],\n",
       "       [251, 255, 255, ..., 255, 252, 255],\n",
       "       [255, 255, 253, ..., 254, 255, 254]], dtype=uint8)"
      ]
     },
     "execution_count": 6,
     "metadata": {},
     "output_type": "execute_result"
    }
   ],
   "source": [
    "collage = np.hstack(e_list)\n",
    "# collage"
   ]
  },
  {
   "cell_type": "code",
   "execution_count": 7,
   "id": "576bac6b",
   "metadata": {},
   "outputs": [
    {
     "data": {
      "text/plain": [
       "True"
      ]
     },
     "execution_count": 7,
     "metadata": {},
     "output_type": "execute_result"
    }
   ],
   "source": [
    "# k = cv2.waitKey(0)\n",
    "cv2.imwrite(\"collage.png\", collage)"
   ]
  },
  {
   "cell_type": "code",
   "execution_count": null,
   "id": "1ff97afc",
   "metadata": {},
   "outputs": [],
   "source": []
  },
  {
   "cell_type": "code",
   "execution_count": null,
   "id": "5da0ea49",
   "metadata": {},
   "outputs": [],
   "source": []
  }
 ],
 "metadata": {
  "kernelspec": {
   "display_name": "Python 3 (ipykernel)",
   "language": "python",
   "name": "python3"
  },
  "language_info": {
   "codemirror_mode": {
    "name": "ipython",
    "version": 3
   },
   "file_extension": ".py",
   "mimetype": "text/x-python",
   "name": "python",
   "nbconvert_exporter": "python",
   "pygments_lexer": "ipython3",
   "version": "3.11.1"
  }
 },
 "nbformat": 4,
 "nbformat_minor": 5
}
