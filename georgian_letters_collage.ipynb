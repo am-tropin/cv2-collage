{
 "cells": [
  {
   "cell_type": "code",
   "execution_count": 10,
   "id": "96055b7c",
   "metadata": {},
   "outputs": [],
   "source": [
    "import cv2\n",
    "import os\n",
    "import numpy as np\n",
    "import random"
   ]
  },
  {
   "cell_type": "code",
   "execution_count": 8,
   "id": "d77a7420",
   "metadata": {},
   "outputs": [],
   "source": [
    "# მონაცემთა მეცნიერი = data scientist\n",
    "\n",
    "str_1 = \"მონაცემთა\"\n",
    "str_2 = \"მეცნიერი\""
   ]
  },
  {
   "cell_type": "code",
   "execution_count": 9,
   "id": "c8f16990",
   "metadata": {},
   "outputs": [],
   "source": [
    "dir_name = \"georgian_letters/\"\n",
    "dir_list = os.listdir(dir_name)\n"
   ]
  },
  {
   "cell_type": "code",
   "execution_count": 22,
   "id": "6517cf14",
   "metadata": {},
   "outputs": [],
   "source": [
    "def collage_by_string(string):\n",
    "    letters_dict = {}\n",
    "    string_collage = []\n",
    "\n",
    "    for a in string:\n",
    "        letters_dict[a] = []\n",
    "        for d in dir_list:\n",
    "            if a in d:\n",
    "                letters_dict[a].append(cv2.imread(dir_name + d, cv2.IMREAD_GRAYSCALE))\n",
    "        string_collage.append(random.choice(letters_dict[a]))   \n",
    "    \n",
    "    return string_collage"
   ]
  },
  {
   "cell_type": "code",
   "execution_count": null,
   "id": "31a1b839",
   "metadata": {},
   "outputs": [],
   "source": [
    "cv2.imwrite(\"collage_str_1.png\", np.hstack(collage_by_string(str_1)))"
   ]
  },
  {
   "cell_type": "code",
   "execution_count": 23,
   "id": "32868dcb",
   "metadata": {},
   "outputs": [
    {
     "data": {
      "text/plain": [
       "True"
      ]
     },
     "execution_count": 23,
     "metadata": {},
     "output_type": "execute_result"
    }
   ],
   "source": [
    "cv2.imwrite(\"collage_str_2.png\", np.hstack(collage_by_string(str_2)))"
   ]
  },
  {
   "cell_type": "code",
   "execution_count": null,
   "id": "4dd13026",
   "metadata": {},
   "outputs": [],
   "source": []
  },
  {
   "cell_type": "code",
   "execution_count": 25,
   "id": "cdf72d9d",
   "metadata": {},
   "outputs": [],
   "source": [
    "im_1 = cv2.imread(\"collage_str_1.png\", cv2.IMREAD_GRAYSCALE)\n",
    "im_2 = cv2.imread(\"collage_str_2.png\", cv2.IMREAD_GRAYSCALE)"
   ]
  },
  {
   "cell_type": "code",
   "execution_count": 37,
   "id": "b76811fd",
   "metadata": {},
   "outputs": [],
   "source": []
  },
  {
   "cell_type": "code",
   "execution_count": 45,
   "id": "3c61bcbd",
   "metadata": {},
   "outputs": [
    {
     "data": {
      "text/plain": [
       "(32, 32)"
      ]
     },
     "execution_count": 45,
     "metadata": {},
     "output_type": "execute_result"
    }
   ],
   "source": [
    "# create a white rectangle 32x32 \n",
    "\n",
    "img = np.ones((32, 32), dtype = np.uint8)\n",
    "white_im = 255 * img\n",
    "\n",
    "white_im.shape"
   ]
  },
  {
   "cell_type": "code",
   "execution_count": 31,
   "id": "3278c327",
   "metadata": {},
   "outputs": [
    {
     "data": {
      "text/plain": [
       "True"
      ]
     },
     "execution_count": 31,
     "metadata": {},
     "output_type": "execute_result"
    }
   ],
   "source": [
    "# cv2.imwrite(\"white_space.png\", white_im)"
   ]
  },
  {
   "cell_type": "code",
   "execution_count": 47,
   "id": "c1e30560",
   "metadata": {},
   "outputs": [
    {
     "data": {
      "text/plain": [
       "True"
      ]
     },
     "execution_count": 47,
     "metadata": {},
     "output_type": "execute_result"
    }
   ],
   "source": [
    "# cv2.imwrite(\"collage_str_2+.png\", np.hstack([white_im] + collage_by_string(str_2)))"
   ]
  },
  {
   "cell_type": "code",
   "execution_count": 48,
   "id": "6bdf09da",
   "metadata": {},
   "outputs": [
    {
     "data": {
      "text/plain": [
       "True"
      ]
     },
     "execution_count": 48,
     "metadata": {},
     "output_type": "execute_result"
    }
   ],
   "source": [
    "cv2.imwrite(\"collage_str_1&2_.png\", np.vstack([im_1, np.hstack([white_im] + collage_by_string(str_2))]))"
   ]
  },
  {
   "cell_type": "code",
   "execution_count": null,
   "id": "c1356827",
   "metadata": {},
   "outputs": [],
   "source": []
  },
  {
   "cell_type": "code",
   "execution_count": null,
   "id": "3488bbe3",
   "metadata": {},
   "outputs": [],
   "source": []
  },
  {
   "cell_type": "code",
   "execution_count": null,
   "id": "09d0ce80",
   "metadata": {},
   "outputs": [],
   "source": []
  },
  {
   "cell_type": "code",
   "execution_count": null,
   "id": "707b8dc0",
   "metadata": {},
   "outputs": [],
   "source": []
  }
 ],
 "metadata": {
  "kernelspec": {
   "display_name": "Python 3 (ipykernel)",
   "language": "python",
   "name": "python3"
  },
  "language_info": {
   "codemirror_mode": {
    "name": "ipython",
    "version": 3
   },
   "file_extension": ".py",
   "mimetype": "text/x-python",
   "name": "python",
   "nbconvert_exporter": "python",
   "pygments_lexer": "ipython3",
   "version": "3.11.1"
  }
 },
 "nbformat": 4,
 "nbformat_minor": 5
}
