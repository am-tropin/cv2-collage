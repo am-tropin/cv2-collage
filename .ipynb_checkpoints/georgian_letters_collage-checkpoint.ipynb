{
 "cells": [
  {
   "cell_type": "code",
   "execution_count": 10,
   "id": "d6506d17",
   "metadata": {},
   "outputs": [],
   "source": [
    "import cv2\n",
    "import os\n",
    "import numpy as np\n",
    "import random"
   ]
  },
  {
   "cell_type": "code",
   "execution_count": 8,
   "id": "30f03a24",
   "metadata": {},
   "outputs": [],
   "source": [
    "# მონაცემთა მეცნიერი = data scientist\n",
    "\n",
    "str_1 = \"მონაცემთა\"\n",
    "str_2 = \"მეცნიერი\""
   ]
  },
  {
   "cell_type": "code",
   "execution_count": 9,
   "id": "1695e535",
   "metadata": {},
   "outputs": [],
   "source": [
    "dir_name = \"georgian_letters/\"\n",
    "dir_list = os.listdir(dir_name)\n"
   ]
  },
  {
   "cell_type": "code",
   "execution_count": 22,
   "id": "c08466d2",
   "metadata": {},
   "outputs": [],
   "source": [
    "def collage_by_string(string):\n",
    "    letters_dict = {}\n",
    "    string_collage = []\n",
    "\n",
    "    for a in string:\n",
    "        letters_dict[a] = []\n",
    "        for d in dir_list:\n",
    "            if a in d:\n",
    "                letters_dict[a].append(cv2.imread(dir_name + d, cv2.IMREAD_GRAYSCALE))\n",
    "        string_collage.append(random.choice(letters_dict[a]))   \n",
    "    \n",
    "    return string_collage"
   ]
  },
  {
   "cell_type": "code",
   "execution_count": null,
   "id": "57f658b5",
   "metadata": {},
   "outputs": [],
   "source": [
    "cv2.imwrite(\"collage_str_1.png\", np.hstack(collage_by_string(str_1)))"
   ]
  },
  {
   "cell_type": "code",
   "execution_count": 23,
   "id": "492f4024",
   "metadata": {},
   "outputs": [
    {
     "data": {
      "text/plain": [
       "True"
      ]
     },
     "execution_count": 23,
     "metadata": {},
     "output_type": "execute_result"
    }
   ],
   "source": [
    "cv2.imwrite(\"collage_str_2.png\", np.hstack(collage_by_string(str_2)))"
   ]
  },
  {
   "cell_type": "code",
   "execution_count": null,
   "id": "74f3d519",
   "metadata": {},
   "outputs": [],
   "source": []
  },
  {
   "cell_type": "code",
   "execution_count": 25,
   "id": "be669b30",
   "metadata": {},
   "outputs": [],
   "source": [
    "im_1 = cv2.imread(\"collage_str_1.png\", cv2.IMREAD_GRAYSCALE)\n",
    "im_2 = cv2.imread(\"collage_str_2.png\", cv2.IMREAD_GRAYSCALE)"
   ]
  },
  {
   "cell_type": "code",
   "execution_count": 37,
   "id": "02c0830d",
   "metadata": {},
   "outputs": [],
   "source": []
  },
  {
   "cell_type": "code",
   "execution_count": 45,
   "id": "587a4cfc",
   "metadata": {},
   "outputs": [
    {
     "data": {
      "text/plain": [
       "(32, 32)"
      ]
     },
     "execution_count": 45,
     "metadata": {},
     "output_type": "execute_result"
    }
   ],
   "source": [
    "# create a white rectangle 32x32 \n",
    "\n",
    "img = np.ones((32, 32), dtype = np.uint8)\n",
    "white_im = 255 * img\n",
    "\n",
    "white_im.shape"
   ]
  },
  {
   "cell_type": "code",
   "execution_count": 31,
   "id": "c969a633",
   "metadata": {},
   "outputs": [
    {
     "data": {
      "text/plain": [
       "True"
      ]
     },
     "execution_count": 31,
     "metadata": {},
     "output_type": "execute_result"
    }
   ],
   "source": [
    "# cv2.imwrite(\"white_space.png\", white_im)"
   ]
  },
  {
   "cell_type": "code",
   "execution_count": 47,
   "id": "40af80df",
   "metadata": {},
   "outputs": [
    {
     "data": {
      "text/plain": [
       "True"
      ]
     },
     "execution_count": 47,
     "metadata": {},
     "output_type": "execute_result"
    }
   ],
   "source": [
    "# cv2.imwrite(\"collage_str_2+.png\", np.hstack([white_im] + collage_by_string(str_2)))"
   ]
  },
  {
   "cell_type": "code",
   "execution_count": 49,
   "id": "4e2a4e2e",
   "metadata": {},
   "outputs": [
    {
     "data": {
      "text/plain": [
       "True"
      ]
     },
     "execution_count": 49,
     "metadata": {},
     "output_type": "execute_result"
    }
   ],
   "source": [
    "cv2.imwrite(\"collage_str_1&2.png\", np.vstack([im_1, np.hstack([white_im] + collage_by_string(str_2))]))"
   ]
  },
  {
   "cell_type": "code",
   "execution_count": null,
   "id": "f7c92bf4",
   "metadata": {},
   "outputs": [],
   "source": []
  },
  {
   "cell_type": "code",
   "execution_count": null,
   "id": "b5872dd6",
   "metadata": {},
   "outputs": [],
   "source": [
    "# https://www.linkedin.com/help/linkedin/answer/a568217/add-or-change-the-background-photo-on-your-profile\n",
    "\n",
    "# 1584 (w) x 396 (h) pixels (recommended)"
   ]
  },
  {
   "cell_type": "code",
   "execution_count": 50,
   "id": "5d4b108f",
   "metadata": {},
   "outputs": [
    {
     "data": {
      "text/plain": [
       "(64, 288)"
      ]
     },
     "execution_count": 50,
     "metadata": {},
     "output_type": "execute_result"
    }
   ],
   "source": [
    "im_collage = cv2.imread(\"collage_str_1&2.png\", cv2.IMREAD_GRAYSCALE)\n",
    "im_collage.shape"
   ]
  },
  {
   "cell_type": "code",
   "execution_count": 61,
   "id": "36097a2f",
   "metadata": {},
   "outputs": [
    {
     "data": {
      "text/plain": [
       "True"
      ]
     },
     "execution_count": 61,
     "metadata": {},
     "output_type": "execute_result"
    }
   ],
   "source": [
    "scale_rate = 3.5\n",
    "# width = int(img.shape[1] * scale_rate)\n",
    "# height = int(img.shape[0] * scale_rate)\n",
    "# dim = (width, height)\n",
    "  \n",
    "# resize image\n",
    "resized = cv2.resize(im_collage, (int(im_collage.shape[1] * scale_rate), int(im_collage.shape[0] * scale_rate)), interpolation = cv2.INTER_AREA)\n",
    "cv2.imwrite(\"resized_collage_str_1&2.png\", resized)\n",
    "\n"
   ]
  },
  {
   "cell_type": "code",
   "execution_count": 62,
   "id": "87c41f87",
   "metadata": {},
   "outputs": [
    {
     "data": {
      "text/plain": [
       "(224, 1008)"
      ]
     },
     "execution_count": 62,
     "metadata": {},
     "output_type": "execute_result"
    }
   ],
   "source": [
    "resized.shape"
   ]
  },
  {
   "cell_type": "code",
   "execution_count": null,
   "id": "4b2b5adb",
   "metadata": {},
   "outputs": [],
   "source": []
  },
  {
   "cell_type": "code",
   "execution_count": 59,
   "id": "bfd1e217",
   "metadata": {},
   "outputs": [
    {
     "data": {
      "text/plain": [
       "(396, 1584)"
      ]
     },
     "execution_count": 59,
     "metadata": {},
     "output_type": "execute_result"
    }
   ],
   "source": [
    "# create a white rectangle 396 x 1584\n",
    "img = np.ones((396, 1584), dtype = np.uint8)\n",
    "white_rec = 255 * img\n",
    "\n",
    "white_rec.shape"
   ]
  },
  {
   "cell_type": "code",
   "execution_count": 56,
   "id": "81d32dfa",
   "metadata": {},
   "outputs": [
    {
     "data": {
      "text/plain": [
       "216"
      ]
     },
     "execution_count": 56,
     "metadata": {},
     "output_type": "execute_result"
    }
   ],
   "source": [
    "(1584 - 1152) // 2"
   ]
  },
  {
   "cell_type": "code",
   "execution_count": 63,
   "id": "9dee6ea5",
   "metadata": {},
   "outputs": [
    {
     "data": {
      "text/plain": [
       "86"
      ]
     },
     "execution_count": 63,
     "metadata": {},
     "output_type": "execute_result"
    }
   ],
   "source": [
    "(396 - 224) // 2"
   ]
  },
  {
   "cell_type": "code",
   "execution_count": 65,
   "id": "8a14e16b",
   "metadata": {},
   "outputs": [
    {
     "data": {
      "text/plain": [
       "True"
      ]
     },
     "execution_count": 65,
     "metadata": {},
     "output_type": "execute_result"
    }
   ],
   "source": [
    "# create a white rectangle 396 x 1584\n",
    "img = np.ones((396, 1584), dtype = np.uint8)\n",
    "white_rec = 255 * img\n",
    "\n",
    "x_offset = 400\n",
    "y_offset = 86\n",
    "\n",
    "white_rec[y_offset:y_offset+resized.shape[0], x_offset:x_offset+resized.shape[1]] = resized\n",
    "\n",
    "cv2.imwrite(\"resized_collage_str_1&2_with_back.png\", white_rec)\n"
   ]
  },
  {
   "cell_type": "code",
   "execution_count": null,
   "id": "efa5f904",
   "metadata": {},
   "outputs": [],
   "source": [
    "# Iteration 2: \n",
    "# to fill the whole rectangle with various letters / words, but to highlight the DATA SCIENTIST words \n",
    "# (to color 2 rectangles and its borders in two colors?)\n"
   ]
  }
 ],
 "metadata": {
  "kernelspec": {
   "display_name": "Python 3 (ipykernel)",
   "language": "python",
   "name": "python3"
  },
  "language_info": {
   "codemirror_mode": {
    "name": "ipython",
    "version": 3
   },
   "file_extension": ".py",
   "mimetype": "text/x-python",
   "name": "python",
   "nbconvert_exporter": "python",
   "pygments_lexer": "ipython3",
   "version": "3.11.1"
  }
 },
 "nbformat": 4,
 "nbformat_minor": 5
}
