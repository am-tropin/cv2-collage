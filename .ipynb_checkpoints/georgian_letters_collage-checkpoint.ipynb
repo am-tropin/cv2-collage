{
 "cells": [
  {
   "cell_type": "code",
   "execution_count": 2,
   "id": "716f82c9",
   "metadata": {},
   "outputs": [],
   "source": [
    "import cv2\n",
    "import os\n",
    "import numpy as np\n",
    "import random"
   ]
  },
  {
   "cell_type": "code",
   "execution_count": 3,
   "id": "b407dcaa",
   "metadata": {},
   "outputs": [],
   "source": [
    "dir_name = \"georgian_letters/\"\n",
    "dir_list = os.listdir(dir_name)"
   ]
  },
  {
   "cell_type": "code",
   "execution_count": 4,
   "id": "6a09f416",
   "metadata": {},
   "outputs": [],
   "source": [
    "def collage_by_string(string):\n",
    "    letters_dict = {}\n",
    "    string_collage = []\n",
    "\n",
    "    for a in string:\n",
    "        letters_dict[a] = []\n",
    "        for d in dir_list:\n",
    "            if a in d:\n",
    "                letters_dict[a].append(cv2.imread(dir_name + d, cv2.IMREAD_GRAYSCALE))\n",
    "        string_collage.append(random.choice(letters_dict[a]))   \n",
    "    \n",
    "    return string_collage"
   ]
  },
  {
   "cell_type": "markdown",
   "id": "b98e42dc",
   "metadata": {},
   "source": [
    "# Iteration 1"
   ]
  },
  {
   "cell_type": "code",
   "execution_count": 8,
   "id": "d1bb49c1",
   "metadata": {},
   "outputs": [],
   "source": [
    "# მონაცემთა მეცნიერი = data scientist\n",
    "\n",
    "str_1 = \"მონაცემთა\"\n",
    "str_2 = \"მეცნიერი\""
   ]
  },
  {
   "cell_type": "code",
   "execution_count": null,
   "id": "f6917a9a",
   "metadata": {},
   "outputs": [],
   "source": [
    "cv2.imwrite(\"collage_str_1.png\", np.hstack(collage_by_string(str_1)))"
   ]
  },
  {
   "cell_type": "code",
   "execution_count": 23,
   "id": "bcf9353f",
   "metadata": {},
   "outputs": [
    {
     "data": {
      "text/plain": [
       "True"
      ]
     },
     "execution_count": 23,
     "metadata": {},
     "output_type": "execute_result"
    }
   ],
   "source": [
    "cv2.imwrite(\"collage_str_2.png\", np.hstack(collage_by_string(str_2)))"
   ]
  },
  {
   "cell_type": "code",
   "execution_count": null,
   "id": "14b11522",
   "metadata": {},
   "outputs": [],
   "source": []
  },
  {
   "cell_type": "code",
   "execution_count": 25,
   "id": "32e816d9",
   "metadata": {},
   "outputs": [],
   "source": [
    "im_1 = cv2.imread(\"collage_str_1.png\", cv2.IMREAD_GRAYSCALE)\n",
    "im_2 = cv2.imread(\"collage_str_2.png\", cv2.IMREAD_GRAYSCALE)"
   ]
  },
  {
   "cell_type": "code",
   "execution_count": 37,
   "id": "75bf9956",
   "metadata": {},
   "outputs": [],
   "source": []
  },
  {
   "cell_type": "code",
   "execution_count": 45,
   "id": "b636f412",
   "metadata": {},
   "outputs": [
    {
     "data": {
      "text/plain": [
       "(32, 32)"
      ]
     },
     "execution_count": 45,
     "metadata": {},
     "output_type": "execute_result"
    }
   ],
   "source": [
    "# create a white rectangle 32x32 \n",
    "\n",
    "img = np.ones((32, 32), dtype = np.uint8)\n",
    "white_im = 255 * img\n",
    "\n",
    "white_im.shape"
   ]
  },
  {
   "cell_type": "code",
   "execution_count": 31,
   "id": "f8ea5406",
   "metadata": {},
   "outputs": [
    {
     "data": {
      "text/plain": [
       "True"
      ]
     },
     "execution_count": 31,
     "metadata": {},
     "output_type": "execute_result"
    }
   ],
   "source": [
    "# cv2.imwrite(\"white_space.png\", white_im)"
   ]
  },
  {
   "cell_type": "code",
   "execution_count": 47,
   "id": "92d0898e",
   "metadata": {},
   "outputs": [
    {
     "data": {
      "text/plain": [
       "True"
      ]
     },
     "execution_count": 47,
     "metadata": {},
     "output_type": "execute_result"
    }
   ],
   "source": [
    "# cv2.imwrite(\"collage_str_2+.png\", np.hstack([white_im] + collage_by_string(str_2)))"
   ]
  },
  {
   "cell_type": "code",
   "execution_count": 49,
   "id": "cad9885e",
   "metadata": {},
   "outputs": [
    {
     "data": {
      "text/plain": [
       "True"
      ]
     },
     "execution_count": 49,
     "metadata": {},
     "output_type": "execute_result"
    }
   ],
   "source": [
    "cv2.imwrite(\"collage_str_1&2.png\", np.vstack([im_1, np.hstack([white_im] + collage_by_string(str_2))]))"
   ]
  },
  {
   "cell_type": "code",
   "execution_count": null,
   "id": "12535b2c",
   "metadata": {},
   "outputs": [],
   "source": []
  },
  {
   "cell_type": "code",
   "execution_count": 50,
   "id": "d240209f",
   "metadata": {},
   "outputs": [
    {
     "data": {
      "text/plain": [
       "(64, 288)"
      ]
     },
     "execution_count": 50,
     "metadata": {},
     "output_type": "execute_result"
    }
   ],
   "source": [
    "im_collage = cv2.imread(\"collage_str_1&2.png\", cv2.IMREAD_GRAYSCALE)\n",
    "im_collage.shape"
   ]
  },
  {
   "cell_type": "code",
   "execution_count": 61,
   "id": "ca423aa3",
   "metadata": {},
   "outputs": [
    {
     "data": {
      "text/plain": [
       "True"
      ]
     },
     "execution_count": 61,
     "metadata": {},
     "output_type": "execute_result"
    }
   ],
   "source": [
    "scale_rate = 3.5\n",
    "# width = int(img.shape[1] * scale_rate)\n",
    "# height = int(img.shape[0] * scale_rate)\n",
    "# dim = (width, height)\n",
    "  \n",
    "# resize image\n",
    "resized = cv2.resize(im_collage, (int(im_collage.shape[1] * scale_rate), int(im_collage.shape[0] * scale_rate)), interpolation = cv2.INTER_AREA)\n",
    "cv2.imwrite(\"resized_collage_str_1&2.png\", resized)\n",
    "\n"
   ]
  },
  {
   "cell_type": "code",
   "execution_count": 62,
   "id": "a0e8f990",
   "metadata": {},
   "outputs": [
    {
     "data": {
      "text/plain": [
       "(224, 1008)"
      ]
     },
     "execution_count": 62,
     "metadata": {},
     "output_type": "execute_result"
    }
   ],
   "source": [
    "resized.shape"
   ]
  },
  {
   "cell_type": "code",
   "execution_count": null,
   "id": "26a24e9c",
   "metadata": {},
   "outputs": [],
   "source": []
  },
  {
   "cell_type": "code",
   "execution_count": 59,
   "id": "b987a4e9",
   "metadata": {},
   "outputs": [
    {
     "data": {
      "text/plain": [
       "(396, 1584)"
      ]
     },
     "execution_count": 59,
     "metadata": {},
     "output_type": "execute_result"
    }
   ],
   "source": [
    "# create a white rectangle 396 x 1584\n",
    "img = np.ones((396, 1584), dtype = np.uint8)\n",
    "white_rec = 255 * img\n",
    "\n",
    "white_rec.shape"
   ]
  },
  {
   "cell_type": "code",
   "execution_count": 56,
   "id": "de043843",
   "metadata": {},
   "outputs": [
    {
     "data": {
      "text/plain": [
       "216"
      ]
     },
     "execution_count": 56,
     "metadata": {},
     "output_type": "execute_result"
    }
   ],
   "source": [
    "(1584 - 1152) // 2"
   ]
  },
  {
   "cell_type": "code",
   "execution_count": 63,
   "id": "0689b73d",
   "metadata": {},
   "outputs": [
    {
     "data": {
      "text/plain": [
       "86"
      ]
     },
     "execution_count": 63,
     "metadata": {},
     "output_type": "execute_result"
    }
   ],
   "source": [
    "(396 - 224) // 2"
   ]
  },
  {
   "cell_type": "code",
   "execution_count": 65,
   "id": "30c63a3b",
   "metadata": {},
   "outputs": [
    {
     "data": {
      "text/plain": [
       "True"
      ]
     },
     "execution_count": 65,
     "metadata": {},
     "output_type": "execute_result"
    }
   ],
   "source": [
    "# create a white rectangle 396 x 1584\n",
    "img = np.ones((396, 1584), dtype = np.uint8)\n",
    "white_rec = 255 * img\n",
    "\n",
    "x_offset = 400\n",
    "y_offset = 86\n",
    "\n",
    "white_rec[y_offset:y_offset+resized.shape[0], x_offset:x_offset+resized.shape[1]] = resized\n",
    "\n",
    "cv2.imwrite(\"resized_collage_str_1&2_with_back.png\", white_rec)\n"
   ]
  },
  {
   "cell_type": "markdown",
   "id": "455056d7",
   "metadata": {},
   "source": [
    "# Iteration 2\n",
    "\n",
    "to fill the whole rectangle with various letters / words, but to highlight the DATA SCIENTIST words \n",
    "(to color 2 rectangles and its borders in two colors?)\n"
   ]
  },
  {
   "cell_type": "markdown",
   "id": "880f8e77",
   "metadata": {},
   "source": [
    "## 2.1. Creating the mosaic of letters"
   ]
  },
  {
   "cell_type": "code",
   "execution_count": null,
   "id": "6c98c448",
   "metadata": {},
   "outputs": [],
   "source": [
    "\"მონაცემთა მეცნიერი\" # data scientist +\n",
    "\n",
    "\"მონაცემთა ანალიტიკოსი\" # data analyst\n",
    "\"მონაცემთა ვიზუალიზაცია\" # data visualization +\n",
    "\"სტატისტიკური ანალიზი\" # statistical analysis\n",
    "\"ანალიტიკა\" # analytics\n",
    "\"სტატისტიკა\" # statistics +\n",
    "\"მანქანათმცოდნეობა\" # machine learning -\n",
    "\"მანქანათმცოდნეობის ინჟინერი\" # machine learning engineer + \n",
    "\"კვლევა\" # research +\n",
    "\"მათემატიკა\" # mathematics +\n",
    "\"ინტელექტი\" # intelligence\n",
    "\"ხელოვნური ინტელექტი\" # artificial intelligence\n",
    "\"ქსელი\" # network"
   ]
  },
  {
   "cell_type": "code",
   "execution_count": null,
   "id": "35416281",
   "metadata": {},
   "outputs": [],
   "source": [
    "\"\"\"\n",
    "მანქანათმცოდნეობისინჟ ინერი - machine learning engineer\n",
    "კვლევამონაცემთავიზუალ იზაცია - research + data + visualization\n",
    "ანალიტიკოსიმეცნიერიინ ტელექტი - analyst + scientist + intelligence\n",
    "სტატისტიკამათემატიკაქ სელი - statistics + mathematics + network\n",
    "\"\"\"\n",
    "# 4x21 "
   ]
  },
  {
   "cell_type": "code",
   "execution_count": 72,
   "id": "92f4d830",
   "metadata": {},
   "outputs": [
    {
     "data": {
      "text/plain": [
       "[('ა', 14),\n",
       " ('ი', 12),\n",
       " ('ნ', 8),\n",
       " ('მ', 7),\n",
       " ('ე', 6),\n",
       " ('ტ', 5),\n",
       " ('ო', 4),\n",
       " ('ს', 4),\n",
       " ('კ', 4),\n",
       " ('თ', 3),\n",
       " ('ც', 3),\n",
       " ('ვ', 3),\n",
       " ('ლ', 3),\n",
       " ('ქ', 2),\n",
       " ('დ', 1),\n",
       " ('ბ', 1),\n",
       " ('ჟ', 1),\n",
       " ('ზ', 1),\n",
       " ('უ', 1),\n",
       " ('რ', 1)]"
      ]
     },
     "execution_count": 72,
     "metadata": {},
     "output_type": "execute_result"
    }
   ],
   "source": [
    "georgian_mosaic = [\n",
    "    \"მანქანათმცოდნეობისინჟ\",\n",
    "    \"კვლევამონაცემთავიზუალ\",\n",
    "    \"ანალიტიკოსიმეცნიერიინ\",\n",
    "    \"სტატისტიკამათემატიკაქ\"\n",
    "]\n",
    "\n",
    "letters = {}\n",
    "\n",
    "for s in georgian_mosaic:\n",
    "    for a in s:\n",
    "        if a not in letters.keys():\n",
    "            letters[a] = 1\n",
    "        else:\n",
    "            letters[a] += 1\n",
    "\n",
    "sorted(letters.items(), key=lambda x: -x[1])"
   ]
  },
  {
   "cell_type": "code",
   "execution_count": 76,
   "id": "729883c9",
   "metadata": {},
   "outputs": [
    {
     "data": {
      "text/plain": [
       "True"
      ]
     },
     "execution_count": 76,
     "metadata": {},
     "output_type": "execute_result"
    }
   ],
   "source": [
    "collage_list = []\n",
    "\n",
    "for i, s in enumerate(georgian_mosaic):\n",
    "    cv2.imwrite(\"collage_full_\"+str(i)+\".png\", np.hstack(collage_by_string(s)))\n",
    "    collage_list.append(cv2.imread(\"collage_full_\"+str(i)+\".png\", cv2.IMREAD_GRAYSCALE))\n",
    "\n",
    "cv2.imwrite(\"collage_full_v.png\", np.vstack(collage_list))"
   ]
  },
  {
   "cell_type": "markdown",
   "id": "13517525",
   "metadata": {},
   "source": [
    "## 2.2. Adding highligth rectangles"
   ]
  },
  {
   "cell_type": "code",
   "execution_count": 32,
   "id": "ee3c9076",
   "metadata": {},
   "outputs": [],
   "source": [
    "def drawing_rectangle_w_border(image_path, new_image_path, color, x, y, w, h, alpha, thickness):\n",
    "    '''\n",
    "    image_path - \n",
    "    new_image_path - \n",
    "    color - (B, G, R)\n",
    "    x, y, w, h - Rectangle parameters\n",
    "    alpha - Transparency factor\n",
    "    thickness - \n",
    "    '''\n",
    "    mosaic_im = cv2.imread(image_path)\n",
    "    \n",
    "    # 1. Rectangle\n",
    "    overlay = mosaic_im.copy() \n",
    "    # A filled rectangle \n",
    "    cv2.rectangle(overlay, (x, y), (x+w, y+h), color, -1)   \n",
    "\n",
    "    # Following line overlays transparent rectangle over the image \n",
    "    mosaic_im_1 = cv2.addWeighted(overlay, alpha, mosaic_im, 1 - alpha, 0) \n",
    "\n",
    "    # 2. Border\n",
    "    start_point = (x + thickness, y + thickness) \n",
    "    end_point = (x + w - thickness, y + h - thickness) \n",
    "    mosaic_im_2 = cv2.rectangle(mosaic_im_1, start_point, end_point, color, thickness) \n",
    "\n",
    "    cv2.imwrite(new_image_path, mosaic_im_2)\n"
   ]
  },
  {
   "cell_type": "code",
   "execution_count": null,
   "id": "3659596a",
   "metadata": {},
   "outputs": [],
   "source": [
    "# coordinates of 1st frame (\"data\"): (6x32, 1x32)\n",
    "# coordinates of 2nd frame (\"scientist\"): (11x32, 2x32)"
   ]
  },
  {
   "cell_type": "code",
   "execution_count": 77,
   "id": "3975d253",
   "metadata": {},
   "outputs": [],
   "source": [
    "step = 32"
   ]
  },
  {
   "cell_type": "code",
   "execution_count": 33,
   "id": "8110fed7",
   "metadata": {},
   "outputs": [],
   "source": [
    "# First rectangle: green for \"data\"\n",
    "\n",
    "image_path = \"collage_full_v.png\"\n",
    "new_image_path = \"collage_full_v_r1.png\"\n",
    "color = (0, 255, 0)\n",
    "x, y, w, h = 6*32, 1*32, 9*32, 1*32\n",
    "alpha = 0.3\n",
    "thickness = 2\n",
    "\n",
    "drawing_rectangle_w_border(image_path, new_image_path, color, x, y, w, h, alpha, thickness)"
   ]
  },
  {
   "cell_type": "code",
   "execution_count": 63,
   "id": "8d458b4c",
   "metadata": {},
   "outputs": [],
   "source": [
    "# Second rectangle: yellow for \"scientist\"\n",
    "\n",
    "image_path = \"collage_full_v_r1.png\"\n",
    "new_image_path = \"collage_full_v_r2.png\"\n",
    "color = (255, 0, 255)\n",
    "x, y, w, h = 11*32, 2*32, 8*32, 1*32\n",
    "alpha = 0.3\n",
    "thickness = 2\n",
    "\n",
    "drawing_rectangle_w_border(image_path, new_image_path, color, x, y, w, h, alpha, thickness)"
   ]
  },
  {
   "cell_type": "code",
   "execution_count": 60,
   "id": "7acc4aab",
   "metadata": {},
   "outputs": [],
   "source": [
    "# color wheel:\n",
    "# https://www.colorspire.com/rgb-color-wheel/\n",
    "\n",
    "# Green: RGB = (0, 255, 0)\n",
    "# Yellow: RGB = (255, 255, 0)\n",
    "# Light-Blue: RGB = (0, 127, 255)\n",
    "# Orange: RGB = (255, 127, 0) # (0, 222, 255)\n",
    "# Violet: RGB = (255, 0, 255)\n",
    "\n",
    "# RGB -> (B, G, R)\n",
    "\n",
    "# current: \n",
    "#     (0, 255, 0)\n",
    "#     (255, 0, 255)\n"
   ]
  },
  {
   "cell_type": "markdown",
   "id": "87e3e774",
   "metadata": {},
   "source": [
    "## 2.3 Cropping by the-background-photo size"
   ]
  },
  {
   "cell_type": "code",
   "execution_count": 61,
   "id": "cf00fdce",
   "metadata": {},
   "outputs": [],
   "source": [
    "# 1584 (w) x 396 (h) pixels (recommended)\n",
    "\n",
    "# https://www.linkedin.com/help/linkedin/answer/a568217/add-or-change-the-background-photo-on-your-profile"
   ]
  },
  {
   "cell_type": "code",
   "execution_count": 64,
   "id": "a57d5c57",
   "metadata": {},
   "outputs": [
    {
     "data": {
      "text/plain": [
       "True"
      ]
     },
     "execution_count": 64,
     "metadata": {},
     "output_type": "execute_result"
    }
   ],
   "source": [
    "collage_im = cv2.imread(\"collage_full_v_r2.png\")\n",
    "# print(collage_im.shape)\n",
    "\n",
    "# coef_h, coef_w = 3.1, 2.4\n",
    "# print(int(collage_im.shape[0] * coef_h), int(collage_im.shape[1] * coef_w))\n",
    "\n",
    "# resized = cv2.resize(collage_im, (int(collage_im.shape[1] * coef_w), int(collage_im.shape[0] * coef_h)), interpolation = cv2.INTER_AREA)\n",
    "resized = cv2.resize(collage_im, (1584, 396), interpolation = cv2.INTER_AREA)\n",
    "cv2.imwrite(\"collage_full_v_r2_resized.png\", resized)\n"
   ]
  },
  {
   "cell_type": "code",
   "execution_count": null,
   "id": "8fa1566d",
   "metadata": {},
   "outputs": [],
   "source": []
  },
  {
   "cell_type": "code",
   "execution_count": null,
   "id": "2a1e73e6",
   "metadata": {},
   "outputs": [],
   "source": []
  }
 ],
 "metadata": {
  "kernelspec": {
   "display_name": "Python 3 (ipykernel)",
   "language": "python",
   "name": "python3"
  },
  "language_info": {
   "codemirror_mode": {
    "name": "ipython",
    "version": 3
   },
   "file_extension": ".py",
   "mimetype": "text/x-python",
   "name": "python",
   "nbconvert_exporter": "python",
   "pygments_lexer": "ipython3",
   "version": "3.11.1"
  }
 },
 "nbformat": 4,
 "nbformat_minor": 5
}
