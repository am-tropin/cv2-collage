{
 "cells": [
  {
   "cell_type": "code",
   "execution_count": 10,
   "id": "7b8df0e3",
   "metadata": {},
   "outputs": [],
   "source": [
    "import cv2\n",
    "import os\n",
    "import numpy as np\n",
    "import random"
   ]
  },
  {
   "cell_type": "code",
   "execution_count": 8,
   "id": "4fa040a2",
   "metadata": {},
   "outputs": [],
   "source": [
    "# მონაცემთა მეცნიერი = data scientist\n",
    "\n",
    "str_1 = \"მონაცემთა\"\n",
    "str_2 = \"მეცნიერი\""
   ]
  },
  {
   "cell_type": "code",
   "execution_count": 9,
   "id": "795ebeec",
   "metadata": {},
   "outputs": [],
   "source": [
    "dir_name = \"georgian_letters/\"\n",
    "dir_list = os.listdir(dir_name)\n"
   ]
  },
  {
   "cell_type": "code",
   "execution_count": 22,
   "id": "3518fe3e",
   "metadata": {},
   "outputs": [],
   "source": [
    "def collage_by_string(string):\n",
    "    letters_dict = {}\n",
    "    string_collage = []\n",
    "\n",
    "    for a in string:\n",
    "        letters_dict[a] = []\n",
    "        for d in dir_list:\n",
    "            if a in d:\n",
    "                letters_dict[a].append(cv2.imread(dir_name + d, cv2.IMREAD_GRAYSCALE))\n",
    "        string_collage.append(random.choice(letters_dict[a]))   \n",
    "    \n",
    "    return string_collage"
   ]
  },
  {
   "cell_type": "code",
   "execution_count": null,
   "id": "1934c08d",
   "metadata": {},
   "outputs": [],
   "source": [
    "cv2.imwrite(\"collage_str_1.png\", np.hstack(collage_by_string(str_1)))"
   ]
  },
  {
   "cell_type": "code",
   "execution_count": 23,
   "id": "a4b7bdd7",
   "metadata": {},
   "outputs": [
    {
     "data": {
      "text/plain": [
       "True"
      ]
     },
     "execution_count": 23,
     "metadata": {},
     "output_type": "execute_result"
    }
   ],
   "source": [
    "cv2.imwrite(\"collage_str_2.png\", np.hstack(collage_by_string(str_2)))"
   ]
  },
  {
   "cell_type": "code",
   "execution_count": null,
   "id": "c36bb231",
   "metadata": {},
   "outputs": [],
   "source": []
  },
  {
   "cell_type": "code",
   "execution_count": 25,
   "id": "717c02d9",
   "metadata": {},
   "outputs": [],
   "source": [
    "im_1 = cv2.imread(\"collage_str_1.png\", cv2.IMREAD_GRAYSCALE)\n",
    "im_2 = cv2.imread(\"collage_str_2.png\", cv2.IMREAD_GRAYSCALE)"
   ]
  },
  {
   "cell_type": "code",
   "execution_count": 37,
   "id": "0380d777",
   "metadata": {},
   "outputs": [],
   "source": []
  },
  {
   "cell_type": "code",
   "execution_count": 45,
   "id": "a1d5f95d",
   "metadata": {},
   "outputs": [
    {
     "data": {
      "text/plain": [
       "(32, 32)"
      ]
     },
     "execution_count": 45,
     "metadata": {},
     "output_type": "execute_result"
    }
   ],
   "source": [
    "# create a white rectangle 32x32 \n",
    "\n",
    "img = np.ones((32, 32), dtype = np.uint8)\n",
    "white_im = 255 * img\n",
    "\n",
    "white_im.shape"
   ]
  },
  {
   "cell_type": "code",
   "execution_count": 31,
   "id": "dd9c7789",
   "metadata": {},
   "outputs": [
    {
     "data": {
      "text/plain": [
       "True"
      ]
     },
     "execution_count": 31,
     "metadata": {},
     "output_type": "execute_result"
    }
   ],
   "source": [
    "# cv2.imwrite(\"white_space.png\", white_im)"
   ]
  },
  {
   "cell_type": "code",
   "execution_count": 47,
   "id": "0e0d1a94",
   "metadata": {},
   "outputs": [
    {
     "data": {
      "text/plain": [
       "True"
      ]
     },
     "execution_count": 47,
     "metadata": {},
     "output_type": "execute_result"
    }
   ],
   "source": [
    "# cv2.imwrite(\"collage_str_2+.png\", np.hstack([white_im] + collage_by_string(str_2)))"
   ]
  },
  {
   "cell_type": "code",
   "execution_count": 49,
   "id": "288647c1",
   "metadata": {},
   "outputs": [
    {
     "data": {
      "text/plain": [
       "True"
      ]
     },
     "execution_count": 49,
     "metadata": {},
     "output_type": "execute_result"
    }
   ],
   "source": [
    "cv2.imwrite(\"collage_str_1&2.png\", np.vstack([im_1, np.hstack([white_im] + collage_by_string(str_2))]))"
   ]
  },
  {
   "cell_type": "code",
   "execution_count": null,
   "id": "1c511a75",
   "metadata": {},
   "outputs": [],
   "source": []
  },
  {
   "cell_type": "code",
   "execution_count": null,
   "id": "ce68f2fc",
   "metadata": {},
   "outputs": [],
   "source": [
    "# https://www.linkedin.com/help/linkedin/answer/a568217/add-or-change-the-background-photo-on-your-profile\n",
    "\n",
    "# 1584 (w) x 396 (h) pixels (recommended)"
   ]
  },
  {
   "cell_type": "code",
   "execution_count": 50,
   "id": "b9da58c4",
   "metadata": {},
   "outputs": [
    {
     "data": {
      "text/plain": [
       "(64, 288)"
      ]
     },
     "execution_count": 50,
     "metadata": {},
     "output_type": "execute_result"
    }
   ],
   "source": [
    "im_collage = cv2.imread(\"collage_str_1&2.png\", cv2.IMREAD_GRAYSCALE)\n",
    "im_collage.shape"
   ]
  },
  {
   "cell_type": "code",
   "execution_count": 61,
   "id": "64c34e71",
   "metadata": {},
   "outputs": [
    {
     "data": {
      "text/plain": [
       "True"
      ]
     },
     "execution_count": 61,
     "metadata": {},
     "output_type": "execute_result"
    }
   ],
   "source": [
    "scale_rate = 3.5\n",
    "# width = int(img.shape[1] * scale_rate)\n",
    "# height = int(img.shape[0] * scale_rate)\n",
    "# dim = (width, height)\n",
    "  \n",
    "# resize image\n",
    "resized = cv2.resize(im_collage, (int(im_collage.shape[1] * scale_rate), int(im_collage.shape[0] * scale_rate)), interpolation = cv2.INTER_AREA)\n",
    "cv2.imwrite(\"resized_collage_str_1&2.png\", resized)\n",
    "\n"
   ]
  },
  {
   "cell_type": "code",
   "execution_count": 62,
   "id": "af54d131",
   "metadata": {},
   "outputs": [
    {
     "data": {
      "text/plain": [
       "(224, 1008)"
      ]
     },
     "execution_count": 62,
     "metadata": {},
     "output_type": "execute_result"
    }
   ],
   "source": [
    "resized.shape"
   ]
  },
  {
   "cell_type": "code",
   "execution_count": null,
   "id": "096fedaa",
   "metadata": {},
   "outputs": [],
   "source": []
  },
  {
   "cell_type": "code",
   "execution_count": 59,
   "id": "f0960788",
   "metadata": {},
   "outputs": [
    {
     "data": {
      "text/plain": [
       "(396, 1584)"
      ]
     },
     "execution_count": 59,
     "metadata": {},
     "output_type": "execute_result"
    }
   ],
   "source": [
    "# create a white rectangle 396 x 1584\n",
    "img = np.ones((396, 1584), dtype = np.uint8)\n",
    "white_rec = 255 * img\n",
    "\n",
    "white_rec.shape"
   ]
  },
  {
   "cell_type": "code",
   "execution_count": 56,
   "id": "9406bdd9",
   "metadata": {},
   "outputs": [
    {
     "data": {
      "text/plain": [
       "216"
      ]
     },
     "execution_count": 56,
     "metadata": {},
     "output_type": "execute_result"
    }
   ],
   "source": [
    "(1584 - 1152) // 2"
   ]
  },
  {
   "cell_type": "code",
   "execution_count": 63,
   "id": "c1c104ac",
   "metadata": {},
   "outputs": [
    {
     "data": {
      "text/plain": [
       "86"
      ]
     },
     "execution_count": 63,
     "metadata": {},
     "output_type": "execute_result"
    }
   ],
   "source": [
    "(396 - 224) // 2"
   ]
  },
  {
   "cell_type": "code",
   "execution_count": 65,
   "id": "2df6f5c0",
   "metadata": {},
   "outputs": [
    {
     "data": {
      "text/plain": [
       "True"
      ]
     },
     "execution_count": 65,
     "metadata": {},
     "output_type": "execute_result"
    }
   ],
   "source": [
    "# create a white rectangle 396 x 1584\n",
    "img = np.ones((396, 1584), dtype = np.uint8)\n",
    "white_rec = 255 * img\n",
    "\n",
    "x_offset = 400\n",
    "y_offset = 86\n",
    "\n",
    "white_rec[y_offset:y_offset+resized.shape[0], x_offset:x_offset+resized.shape[1]] = resized\n",
    "\n",
    "cv2.imwrite(\"resized_collage_str_1&2_with_back.png\", white_rec)\n"
   ]
  },
  {
   "cell_type": "markdown",
   "id": "19b7f08f",
   "metadata": {},
   "source": [
    "# Iteration 2\n",
    "\n",
    "to fill the whole rectangle with various letters / words, but to highlight the DATA SCIENTIST words \n",
    "(to color 2 rectangles and its borders in two colors?)\n"
   ]
  },
  {
   "cell_type": "code",
   "execution_count": null,
   "id": "0b39af77",
   "metadata": {},
   "outputs": [],
   "source": [
    "\"მონაცემთა მეცნიერი\" # data scientist +\n",
    "\"მონაცემთა ანალიტიკოსი\" # data analyst\n",
    "\"მონაცემთა ვიზუალიზაცია\" # data visualization +\n",
    "\"სტატისტიკური ანალიზი\" # statistical analysis\n",
    "\"ანალიტიკა\" # analytics\n",
    "\"სტატისტიკა\" # statistics +\n",
    "\"მანქანათმცოდნეობა\" # machine learning -\n",
    "\"მანქანათმცოდნეობის ინჟინერი\" # machine learning engineer + \n",
    "\"კვლევა\" # research +\n",
    "\"მათემატიკა\" # mathematics +\n",
    "\"ინტელექტი\" # intelligence\n",
    "\"ხელოვნური ინტელექტი\" # artificial intelligence\n",
    "\"ქსელი\" # network"
   ]
  },
  {
   "cell_type": "code",
   "execution_count": null,
   "id": "4c3c0f18",
   "metadata": {},
   "outputs": [],
   "source": [
    "\"\"\"\n",
    "მანქანათმცოდნეობისინჟ ინერი - machine learning engineer\n",
    "კვლევამონაცემთავიზუალ იზაცია - research + data + visualization\n",
    "ანალიტიკოსიმეცნიერიინ ტელექტი - analyst + scientist + intelligence\n",
    "სტატისტიკამათემატიკაქ სელი - statistics + mathematics + network\n",
    "\"\"\"\n",
    "# 4x21c"
   ]
  },
  {
   "cell_type": "code",
   "execution_count": 72,
   "id": "bd59b16a",
   "metadata": {},
   "outputs": [
    {
     "data": {
      "text/plain": [
       "[('ა', 14),\n",
       " ('ი', 12),\n",
       " ('ნ', 8),\n",
       " ('მ', 7),\n",
       " ('ე', 6),\n",
       " ('ტ', 5),\n",
       " ('ო', 4),\n",
       " ('ს', 4),\n",
       " ('კ', 4),\n",
       " ('თ', 3),\n",
       " ('ც', 3),\n",
       " ('ვ', 3),\n",
       " ('ლ', 3),\n",
       " ('ქ', 2),\n",
       " ('დ', 1),\n",
       " ('ბ', 1),\n",
       " ('ჟ', 1),\n",
       " ('ზ', 1),\n",
       " ('უ', 1),\n",
       " ('რ', 1)]"
      ]
     },
     "execution_count": 72,
     "metadata": {},
     "output_type": "execute_result"
    }
   ],
   "source": [
    "georgian_mosaic = [\n",
    "    \"მანქანათმცოდნეობისინჟ\",\n",
    "    \"კვლევამონაცემთავიზუალ\",\n",
    "    \"ანალიტიკოსიმეცნიერიინ\",\n",
    "    \"სტატისტიკამათემატიკაქ\"\n",
    "]\n",
    "\n",
    "letters = {}\n",
    "\n",
    "for s in georgian_mosaic:\n",
    "    for a in s:\n",
    "        if a not in letters.keys():\n",
    "            letters[a] = 1\n",
    "        else:\n",
    "            letters[a] += 1\n",
    "\n",
    "sorted(letters.items(), key=lambda x: -x[1])"
   ]
  },
  {
   "cell_type": "code",
   "execution_count": null,
   "id": "31be9a5f",
   "metadata": {},
   "outputs": [],
   "source": []
  },
  {
   "cell_type": "code",
   "execution_count": null,
   "id": "b6c9ebea",
   "metadata": {},
   "outputs": [],
   "source": []
  },
  {
   "cell_type": "code",
   "execution_count": null,
   "id": "8d42f61d",
   "metadata": {},
   "outputs": [],
   "source": []
  }
 ],
 "metadata": {
  "kernelspec": {
   "display_name": "Python 3 (ipykernel)",
   "language": "python",
   "name": "python3"
  },
  "language_info": {
   "codemirror_mode": {
    "name": "ipython",
    "version": 3
   },
   "file_extension": ".py",
   "mimetype": "text/x-python",
   "name": "python",
   "nbconvert_exporter": "python",
   "pygments_lexer": "ipython3",
   "version": "3.11.1"
  }
 },
 "nbformat": 4,
 "nbformat_minor": 5
}
