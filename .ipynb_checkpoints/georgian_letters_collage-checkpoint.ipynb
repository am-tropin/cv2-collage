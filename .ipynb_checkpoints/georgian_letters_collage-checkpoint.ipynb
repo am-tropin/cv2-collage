{
 "cells": [
  {
   "cell_type": "code",
   "execution_count": 10,
   "id": "459bbfdd",
   "metadata": {},
   "outputs": [],
   "source": [
    "import cv2\n",
    "import os\n",
    "import numpy as np\n",
    "import random"
   ]
  },
  {
   "cell_type": "code",
   "execution_count": 9,
   "id": "2c7d6496",
   "metadata": {},
   "outputs": [],
   "source": [
    "dir_name = \"georgian_letters/\"\n",
    "dir_list = os.listdir(dir_name)"
   ]
  },
  {
   "cell_type": "code",
   "execution_count": 22,
   "id": "ee3f12f5",
   "metadata": {},
   "outputs": [],
   "source": [
    "def collage_by_string(string):\n",
    "    letters_dict = {}\n",
    "    string_collage = []\n",
    "\n",
    "    for a in string:\n",
    "        letters_dict[a] = []\n",
    "        for d in dir_list:\n",
    "            if a in d:\n",
    "                letters_dict[a].append(cv2.imread(dir_name + d, cv2.IMREAD_GRAYSCALE))\n",
    "        string_collage.append(random.choice(letters_dict[a]))   \n",
    "    \n",
    "    return string_collage"
   ]
  },
  {
   "cell_type": "markdown",
   "id": "84056915",
   "metadata": {},
   "source": [
    "# Iteration 1"
   ]
  },
  {
   "cell_type": "code",
   "execution_count": 8,
   "id": "a118b0de",
   "metadata": {},
   "outputs": [],
   "source": [
    "# მონაცემთა მეცნიერი = data scientist\n",
    "\n",
    "str_1 = \"მონაცემთა\"\n",
    "str_2 = \"მეცნიერი\""
   ]
  },
  {
   "cell_type": "code",
   "execution_count": null,
   "id": "85ca3152",
   "metadata": {},
   "outputs": [],
   "source": [
    "cv2.imwrite(\"collage_str_1.png\", np.hstack(collage_by_string(str_1)))"
   ]
  },
  {
   "cell_type": "code",
   "execution_count": 23,
   "id": "14789fe7",
   "metadata": {},
   "outputs": [
    {
     "data": {
      "text/plain": [
       "True"
      ]
     },
     "execution_count": 23,
     "metadata": {},
     "output_type": "execute_result"
    }
   ],
   "source": [
    "cv2.imwrite(\"collage_str_2.png\", np.hstack(collage_by_string(str_2)))"
   ]
  },
  {
   "cell_type": "code",
   "execution_count": null,
   "id": "842903db",
   "metadata": {},
   "outputs": [],
   "source": []
  },
  {
   "cell_type": "code",
   "execution_count": 25,
   "id": "7ec78693",
   "metadata": {},
   "outputs": [],
   "source": [
    "im_1 = cv2.imread(\"collage_str_1.png\", cv2.IMREAD_GRAYSCALE)\n",
    "im_2 = cv2.imread(\"collage_str_2.png\", cv2.IMREAD_GRAYSCALE)"
   ]
  },
  {
   "cell_type": "code",
   "execution_count": 37,
   "id": "8d5dc62f",
   "metadata": {},
   "outputs": [],
   "source": []
  },
  {
   "cell_type": "code",
   "execution_count": 45,
   "id": "64b35135",
   "metadata": {},
   "outputs": [
    {
     "data": {
      "text/plain": [
       "(32, 32)"
      ]
     },
     "execution_count": 45,
     "metadata": {},
     "output_type": "execute_result"
    }
   ],
   "source": [
    "# create a white rectangle 32x32 \n",
    "\n",
    "img = np.ones((32, 32), dtype = np.uint8)\n",
    "white_im = 255 * img\n",
    "\n",
    "white_im.shape"
   ]
  },
  {
   "cell_type": "code",
   "execution_count": 31,
   "id": "768fe06d",
   "metadata": {},
   "outputs": [
    {
     "data": {
      "text/plain": [
       "True"
      ]
     },
     "execution_count": 31,
     "metadata": {},
     "output_type": "execute_result"
    }
   ],
   "source": [
    "# cv2.imwrite(\"white_space.png\", white_im)"
   ]
  },
  {
   "cell_type": "code",
   "execution_count": 47,
   "id": "437d3ac1",
   "metadata": {},
   "outputs": [
    {
     "data": {
      "text/plain": [
       "True"
      ]
     },
     "execution_count": 47,
     "metadata": {},
     "output_type": "execute_result"
    }
   ],
   "source": [
    "# cv2.imwrite(\"collage_str_2+.png\", np.hstack([white_im] + collage_by_string(str_2)))"
   ]
  },
  {
   "cell_type": "code",
   "execution_count": 49,
   "id": "a5fff8ee",
   "metadata": {},
   "outputs": [
    {
     "data": {
      "text/plain": [
       "True"
      ]
     },
     "execution_count": 49,
     "metadata": {},
     "output_type": "execute_result"
    }
   ],
   "source": [
    "cv2.imwrite(\"collage_str_1&2.png\", np.vstack([im_1, np.hstack([white_im] + collage_by_string(str_2))]))"
   ]
  },
  {
   "cell_type": "code",
   "execution_count": null,
   "id": "68e9631e",
   "metadata": {},
   "outputs": [],
   "source": []
  },
  {
   "cell_type": "code",
   "execution_count": null,
   "id": "318ea4d4",
   "metadata": {},
   "outputs": [],
   "source": [
    "# https://www.linkedin.com/help/linkedin/answer/a568217/add-or-change-the-background-photo-on-your-profile\n",
    "\n",
    "# 1584 (w) x 396 (h) pixels (recommended)"
   ]
  },
  {
   "cell_type": "code",
   "execution_count": 50,
   "id": "047fa126",
   "metadata": {},
   "outputs": [
    {
     "data": {
      "text/plain": [
       "(64, 288)"
      ]
     },
     "execution_count": 50,
     "metadata": {},
     "output_type": "execute_result"
    }
   ],
   "source": [
    "im_collage = cv2.imread(\"collage_str_1&2.png\", cv2.IMREAD_GRAYSCALE)\n",
    "im_collage.shape"
   ]
  },
  {
   "cell_type": "code",
   "execution_count": 61,
   "id": "df5b15b7",
   "metadata": {},
   "outputs": [
    {
     "data": {
      "text/plain": [
       "True"
      ]
     },
     "execution_count": 61,
     "metadata": {},
     "output_type": "execute_result"
    }
   ],
   "source": [
    "scale_rate = 3.5\n",
    "# width = int(img.shape[1] * scale_rate)\n",
    "# height = int(img.shape[0] * scale_rate)\n",
    "# dim = (width, height)\n",
    "  \n",
    "# resize image\n",
    "resized = cv2.resize(im_collage, (int(im_collage.shape[1] * scale_rate), int(im_collage.shape[0] * scale_rate)), interpolation = cv2.INTER_AREA)\n",
    "cv2.imwrite(\"resized_collage_str_1&2.png\", resized)\n",
    "\n"
   ]
  },
  {
   "cell_type": "code",
   "execution_count": 62,
   "id": "1e9193bd",
   "metadata": {},
   "outputs": [
    {
     "data": {
      "text/plain": [
       "(224, 1008)"
      ]
     },
     "execution_count": 62,
     "metadata": {},
     "output_type": "execute_result"
    }
   ],
   "source": [
    "resized.shape"
   ]
  },
  {
   "cell_type": "code",
   "execution_count": null,
   "id": "700a4d78",
   "metadata": {},
   "outputs": [],
   "source": []
  },
  {
   "cell_type": "code",
   "execution_count": 59,
   "id": "1f3cea8e",
   "metadata": {},
   "outputs": [
    {
     "data": {
      "text/plain": [
       "(396, 1584)"
      ]
     },
     "execution_count": 59,
     "metadata": {},
     "output_type": "execute_result"
    }
   ],
   "source": [
    "# create a white rectangle 396 x 1584\n",
    "img = np.ones((396, 1584), dtype = np.uint8)\n",
    "white_rec = 255 * img\n",
    "\n",
    "white_rec.shape"
   ]
  },
  {
   "cell_type": "code",
   "execution_count": 56,
   "id": "ea50b876",
   "metadata": {},
   "outputs": [
    {
     "data": {
      "text/plain": [
       "216"
      ]
     },
     "execution_count": 56,
     "metadata": {},
     "output_type": "execute_result"
    }
   ],
   "source": [
    "(1584 - 1152) // 2"
   ]
  },
  {
   "cell_type": "code",
   "execution_count": 63,
   "id": "c99c7898",
   "metadata": {},
   "outputs": [
    {
     "data": {
      "text/plain": [
       "86"
      ]
     },
     "execution_count": 63,
     "metadata": {},
     "output_type": "execute_result"
    }
   ],
   "source": [
    "(396 - 224) // 2"
   ]
  },
  {
   "cell_type": "code",
   "execution_count": 65,
   "id": "767e14e7",
   "metadata": {},
   "outputs": [
    {
     "data": {
      "text/plain": [
       "True"
      ]
     },
     "execution_count": 65,
     "metadata": {},
     "output_type": "execute_result"
    }
   ],
   "source": [
    "# create a white rectangle 396 x 1584\n",
    "img = np.ones((396, 1584), dtype = np.uint8)\n",
    "white_rec = 255 * img\n",
    "\n",
    "x_offset = 400\n",
    "y_offset = 86\n",
    "\n",
    "white_rec[y_offset:y_offset+resized.shape[0], x_offset:x_offset+resized.shape[1]] = resized\n",
    "\n",
    "cv2.imwrite(\"resized_collage_str_1&2_with_back.png\", white_rec)\n"
   ]
  },
  {
   "cell_type": "markdown",
   "id": "13963b80",
   "metadata": {},
   "source": [
    "# Iteration 2\n",
    "\n",
    "to fill the whole rectangle with various letters / words, but to highlight the DATA SCIENTIST words \n",
    "(to color 2 rectangles and its borders in two colors?)\n"
   ]
  },
  {
   "cell_type": "code",
   "execution_count": null,
   "id": "65af2e81",
   "metadata": {},
   "outputs": [],
   "source": [
    "\"მონაცემთა მეცნიერი\" # data scientist +\n",
    "\"მონაცემთა ანალიტიკოსი\" # data analyst\n",
    "\"მონაცემთა ვიზუალიზაცია\" # data visualization +\n",
    "\"სტატისტიკური ანალიზი\" # statistical analysis\n",
    "\"ანალიტიკა\" # analytics\n",
    "\"სტატისტიკა\" # statistics +\n",
    "\"მანქანათმცოდნეობა\" # machine learning -\n",
    "\"მანქანათმცოდნეობის ინჟინერი\" # machine learning engineer + \n",
    "\"კვლევა\" # research +\n",
    "\"მათემატიკა\" # mathematics +\n",
    "\"ინტელექტი\" # intelligence\n",
    "\"ხელოვნური ინტელექტი\" # artificial intelligence\n",
    "\"ქსელი\" # network"
   ]
  },
  {
   "cell_type": "code",
   "execution_count": null,
   "id": "888abbbb",
   "metadata": {},
   "outputs": [],
   "source": [
    "\"\"\"\n",
    "მანქანათმცოდნეობისინჟ ინერი - machine learning engineer\n",
    "კვლევამონაცემთავიზუალ იზაცია - research + data + visualization\n",
    "ანალიტიკოსიმეცნიერიინ ტელექტი - analyst + scientist + intelligence\n",
    "სტატისტიკამათემატიკაქ სელი - statistics + mathematics + network\n",
    "\"\"\"\n",
    "# 4x21c"
   ]
  },
  {
   "cell_type": "code",
   "execution_count": 72,
   "id": "6fc32400",
   "metadata": {},
   "outputs": [
    {
     "data": {
      "text/plain": [
       "[('ა', 14),\n",
       " ('ი', 12),\n",
       " ('ნ', 8),\n",
       " ('მ', 7),\n",
       " ('ე', 6),\n",
       " ('ტ', 5),\n",
       " ('ო', 4),\n",
       " ('ს', 4),\n",
       " ('კ', 4),\n",
       " ('თ', 3),\n",
       " ('ც', 3),\n",
       " ('ვ', 3),\n",
       " ('ლ', 3),\n",
       " ('ქ', 2),\n",
       " ('დ', 1),\n",
       " ('ბ', 1),\n",
       " ('ჟ', 1),\n",
       " ('ზ', 1),\n",
       " ('უ', 1),\n",
       " ('რ', 1)]"
      ]
     },
     "execution_count": 72,
     "metadata": {},
     "output_type": "execute_result"
    }
   ],
   "source": [
    "georgian_mosaic = [\n",
    "    \"მანქანათმცოდნეობისინჟ\",\n",
    "    \"კვლევამონაცემთავიზუალ\",\n",
    "    \"ანალიტიკოსიმეცნიერიინ\",\n",
    "    \"სტატისტიკამათემატიკაქ\"\n",
    "]\n",
    "\n",
    "letters = {}\n",
    "\n",
    "for s in georgian_mosaic:\n",
    "    for a in s:\n",
    "        if a not in letters.keys():\n",
    "            letters[a] = 1\n",
    "        else:\n",
    "            letters[a] += 1\n",
    "\n",
    "sorted(letters.items(), key=lambda x: -x[1])"
   ]
  },
  {
   "cell_type": "code",
   "execution_count": 76,
   "id": "4d5fcd80",
   "metadata": {},
   "outputs": [
    {
     "data": {
      "text/plain": [
       "True"
      ]
     },
     "execution_count": 76,
     "metadata": {},
     "output_type": "execute_result"
    }
   ],
   "source": [
    "collage_list = []\n",
    "\n",
    "for i, s in enumerate(georgian_mosaic):\n",
    "    cv2.imwrite(\"collage_full_\"+str(i)+\".png\", np.hstack(collage_by_string(s)))\n",
    "    collage_list.append(cv2.imread(\"collage_full_\"+str(i)+\".png\", cv2.IMREAD_GRAYSCALE))\n",
    "\n",
    "cv2.imwrite(\"collage_full_v.png\", np.vstack(collage_list))"
   ]
  },
  {
   "cell_type": "code",
   "execution_count": 77,
   "id": "cbe0e57d",
   "metadata": {},
   "outputs": [],
   "source": [
    "step = 32"
   ]
  },
  {
   "cell_type": "code",
   "execution_count": null,
   "id": "04440155",
   "metadata": {},
   "outputs": [],
   "source": []
  },
  {
   "cell_type": "code",
   "execution_count": null,
   "id": "29a3bfc9",
   "metadata": {},
   "outputs": [],
   "source": []
  },
  {
   "cell_type": "code",
   "execution_count": null,
   "id": "00caadc9",
   "metadata": {},
   "outputs": [],
   "source": []
  },
  {
   "cell_type": "code",
   "execution_count": null,
   "id": "06fd5e5f",
   "metadata": {},
   "outputs": [],
   "source": []
  }
 ],
 "metadata": {
  "kernelspec": {
   "display_name": "Python 3 (ipykernel)",
   "language": "python",
   "name": "python3"
  },
  "language_info": {
   "codemirror_mode": {
    "name": "ipython",
    "version": 3
   },
   "file_extension": ".py",
   "mimetype": "text/x-python",
   "name": "python",
   "nbconvert_exporter": "python",
   "pygments_lexer": "ipython3",
   "version": "3.11.1"
  }
 },
 "nbformat": 4,
 "nbformat_minor": 5
}
