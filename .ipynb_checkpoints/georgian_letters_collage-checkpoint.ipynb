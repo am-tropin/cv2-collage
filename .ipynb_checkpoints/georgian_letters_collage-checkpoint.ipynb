{
 "cells": [
  {
   "cell_type": "code",
   "execution_count": 2,
   "id": "f9fa6d04",
   "metadata": {},
   "outputs": [],
   "source": [
    "import cv2\n",
    "import os\n",
    "import numpy as np\n",
    "import random"
   ]
  },
  {
   "cell_type": "code",
   "execution_count": 3,
   "id": "7a4151fb",
   "metadata": {},
   "outputs": [],
   "source": [
    "dir_name = \"georgian_letters/\"\n",
    "dir_list = os.listdir(dir_name)"
   ]
  },
  {
   "cell_type": "code",
   "execution_count": 4,
   "id": "cd6550d7",
   "metadata": {},
   "outputs": [],
   "source": [
    "def collage_by_string(string):\n",
    "    letters_dict = {}\n",
    "    string_collage = []\n",
    "\n",
    "    for a in string:\n",
    "        letters_dict[a] = []\n",
    "        for d in dir_list:\n",
    "            if a in d:\n",
    "                letters_dict[a].append(cv2.imread(dir_name + d, cv2.IMREAD_GRAYSCALE))\n",
    "        string_collage.append(random.choice(letters_dict[a]))   \n",
    "    \n",
    "    return string_collage"
   ]
  },
  {
   "cell_type": "markdown",
   "id": "cdf2e240",
   "metadata": {},
   "source": [
    "# Iteration 1"
   ]
  },
  {
   "cell_type": "code",
   "execution_count": 8,
   "id": "d5700e1e",
   "metadata": {},
   "outputs": [],
   "source": [
    "# მონაცემთა მეცნიერი = data scientist\n",
    "\n",
    "str_1 = \"მონაცემთა\"\n",
    "str_2 = \"მეცნიერი\""
   ]
  },
  {
   "cell_type": "code",
   "execution_count": null,
   "id": "f9b46ac6",
   "metadata": {},
   "outputs": [],
   "source": [
    "cv2.imwrite(\"collage_str_1.png\", np.hstack(collage_by_string(str_1)))"
   ]
  },
  {
   "cell_type": "code",
   "execution_count": 23,
   "id": "b788c8ca",
   "metadata": {},
   "outputs": [
    {
     "data": {
      "text/plain": [
       "True"
      ]
     },
     "execution_count": 23,
     "metadata": {},
     "output_type": "execute_result"
    }
   ],
   "source": [
    "cv2.imwrite(\"collage_str_2.png\", np.hstack(collage_by_string(str_2)))"
   ]
  },
  {
   "cell_type": "code",
   "execution_count": null,
   "id": "70b03d73",
   "metadata": {},
   "outputs": [],
   "source": []
  },
  {
   "cell_type": "code",
   "execution_count": 25,
   "id": "00add653",
   "metadata": {},
   "outputs": [],
   "source": [
    "im_1 = cv2.imread(\"collage_str_1.png\", cv2.IMREAD_GRAYSCALE)\n",
    "im_2 = cv2.imread(\"collage_str_2.png\", cv2.IMREAD_GRAYSCALE)"
   ]
  },
  {
   "cell_type": "code",
   "execution_count": 37,
   "id": "502bee00",
   "metadata": {},
   "outputs": [],
   "source": []
  },
  {
   "cell_type": "code",
   "execution_count": 45,
   "id": "22746e7f",
   "metadata": {},
   "outputs": [
    {
     "data": {
      "text/plain": [
       "(32, 32)"
      ]
     },
     "execution_count": 45,
     "metadata": {},
     "output_type": "execute_result"
    }
   ],
   "source": [
    "# create a white rectangle 32x32 \n",
    "\n",
    "img = np.ones((32, 32), dtype = np.uint8)\n",
    "white_im = 255 * img\n",
    "\n",
    "white_im.shape"
   ]
  },
  {
   "cell_type": "code",
   "execution_count": 31,
   "id": "291d342b",
   "metadata": {},
   "outputs": [
    {
     "data": {
      "text/plain": [
       "True"
      ]
     },
     "execution_count": 31,
     "metadata": {},
     "output_type": "execute_result"
    }
   ],
   "source": [
    "# cv2.imwrite(\"white_space.png\", white_im)"
   ]
  },
  {
   "cell_type": "code",
   "execution_count": 47,
   "id": "4ac93f77",
   "metadata": {},
   "outputs": [
    {
     "data": {
      "text/plain": [
       "True"
      ]
     },
     "execution_count": 47,
     "metadata": {},
     "output_type": "execute_result"
    }
   ],
   "source": [
    "# cv2.imwrite(\"collage_str_2+.png\", np.hstack([white_im] + collage_by_string(str_2)))"
   ]
  },
  {
   "cell_type": "code",
   "execution_count": 49,
   "id": "aa432326",
   "metadata": {},
   "outputs": [
    {
     "data": {
      "text/plain": [
       "True"
      ]
     },
     "execution_count": 49,
     "metadata": {},
     "output_type": "execute_result"
    }
   ],
   "source": [
    "cv2.imwrite(\"collage_str_1&2.png\", np.vstack([im_1, np.hstack([white_im] + collage_by_string(str_2))]))"
   ]
  },
  {
   "cell_type": "code",
   "execution_count": null,
   "id": "4f826604",
   "metadata": {},
   "outputs": [],
   "source": []
  },
  {
   "cell_type": "code",
   "execution_count": null,
   "id": "26d512d8",
   "metadata": {},
   "outputs": [],
   "source": [
    "# https://www.linkedin.com/help/linkedin/answer/a568217/add-or-change-the-background-photo-on-your-profile\n",
    "\n",
    "# 1584 (w) x 396 (h) pixels (recommended)"
   ]
  },
  {
   "cell_type": "code",
   "execution_count": 50,
   "id": "6c2986a1",
   "metadata": {},
   "outputs": [
    {
     "data": {
      "text/plain": [
       "(64, 288)"
      ]
     },
     "execution_count": 50,
     "metadata": {},
     "output_type": "execute_result"
    }
   ],
   "source": [
    "im_collage = cv2.imread(\"collage_str_1&2.png\", cv2.IMREAD_GRAYSCALE)\n",
    "im_collage.shape"
   ]
  },
  {
   "cell_type": "code",
   "execution_count": 61,
   "id": "6fdfd1a3",
   "metadata": {},
   "outputs": [
    {
     "data": {
      "text/plain": [
       "True"
      ]
     },
     "execution_count": 61,
     "metadata": {},
     "output_type": "execute_result"
    }
   ],
   "source": [
    "scale_rate = 3.5\n",
    "# width = int(img.shape[1] * scale_rate)\n",
    "# height = int(img.shape[0] * scale_rate)\n",
    "# dim = (width, height)\n",
    "  \n",
    "# resize image\n",
    "resized = cv2.resize(im_collage, (int(im_collage.shape[1] * scale_rate), int(im_collage.shape[0] * scale_rate)), interpolation = cv2.INTER_AREA)\n",
    "cv2.imwrite(\"resized_collage_str_1&2.png\", resized)\n",
    "\n"
   ]
  },
  {
   "cell_type": "code",
   "execution_count": 62,
   "id": "2f36d7b0",
   "metadata": {},
   "outputs": [
    {
     "data": {
      "text/plain": [
       "(224, 1008)"
      ]
     },
     "execution_count": 62,
     "metadata": {},
     "output_type": "execute_result"
    }
   ],
   "source": [
    "resized.shape"
   ]
  },
  {
   "cell_type": "code",
   "execution_count": null,
   "id": "7363c170",
   "metadata": {},
   "outputs": [],
   "source": []
  },
  {
   "cell_type": "code",
   "execution_count": 59,
   "id": "6f04626f",
   "metadata": {},
   "outputs": [
    {
     "data": {
      "text/plain": [
       "(396, 1584)"
      ]
     },
     "execution_count": 59,
     "metadata": {},
     "output_type": "execute_result"
    }
   ],
   "source": [
    "# create a white rectangle 396 x 1584\n",
    "img = np.ones((396, 1584), dtype = np.uint8)\n",
    "white_rec = 255 * img\n",
    "\n",
    "white_rec.shape"
   ]
  },
  {
   "cell_type": "code",
   "execution_count": 56,
   "id": "83579d60",
   "metadata": {},
   "outputs": [
    {
     "data": {
      "text/plain": [
       "216"
      ]
     },
     "execution_count": 56,
     "metadata": {},
     "output_type": "execute_result"
    }
   ],
   "source": [
    "(1584 - 1152) // 2"
   ]
  },
  {
   "cell_type": "code",
   "execution_count": 63,
   "id": "c83fa675",
   "metadata": {},
   "outputs": [
    {
     "data": {
      "text/plain": [
       "86"
      ]
     },
     "execution_count": 63,
     "metadata": {},
     "output_type": "execute_result"
    }
   ],
   "source": [
    "(396 - 224) // 2"
   ]
  },
  {
   "cell_type": "code",
   "execution_count": 65,
   "id": "c72756be",
   "metadata": {},
   "outputs": [
    {
     "data": {
      "text/plain": [
       "True"
      ]
     },
     "execution_count": 65,
     "metadata": {},
     "output_type": "execute_result"
    }
   ],
   "source": [
    "# create a white rectangle 396 x 1584\n",
    "img = np.ones((396, 1584), dtype = np.uint8)\n",
    "white_rec = 255 * img\n",
    "\n",
    "x_offset = 400\n",
    "y_offset = 86\n",
    "\n",
    "white_rec[y_offset:y_offset+resized.shape[0], x_offset:x_offset+resized.shape[1]] = resized\n",
    "\n",
    "cv2.imwrite(\"resized_collage_str_1&2_with_back.png\", white_rec)\n"
   ]
  },
  {
   "cell_type": "markdown",
   "id": "060da454",
   "metadata": {},
   "source": [
    "# Iteration 2\n",
    "\n",
    "to fill the whole rectangle with various letters / words, but to highlight the DATA SCIENTIST words \n",
    "(to color 2 rectangles and its borders in two colors?)\n"
   ]
  },
  {
   "cell_type": "code",
   "execution_count": null,
   "id": "4cac58b4",
   "metadata": {},
   "outputs": [],
   "source": [
    "\"მონაცემთა მეცნიერი\" # data scientist +\n",
    "\n",
    "\"მონაცემთა ანალიტიკოსი\" # data analyst\n",
    "\"მონაცემთა ვიზუალიზაცია\" # data visualization +\n",
    "\"სტატისტიკური ანალიზი\" # statistical analysis\n",
    "\"ანალიტიკა\" # analytics\n",
    "\"სტატისტიკა\" # statistics +\n",
    "\"მანქანათმცოდნეობა\" # machine learning -\n",
    "\"მანქანათმცოდნეობის ინჟინერი\" # machine learning engineer + \n",
    "\"კვლევა\" # research +\n",
    "\"მათემატიკა\" # mathematics +\n",
    "\"ინტელექტი\" # intelligence\n",
    "\"ხელოვნური ინტელექტი\" # artificial intelligence\n",
    "\"ქსელი\" # network"
   ]
  },
  {
   "cell_type": "code",
   "execution_count": null,
   "id": "af4298fe",
   "metadata": {},
   "outputs": [],
   "source": [
    "\"\"\"\n",
    "მანქანათმცოდნეობისინჟ ინერი - machine learning engineer\n",
    "კვლევამონაცემთავიზუალ იზაცია - research + data + visualization\n",
    "ანალიტიკოსიმეცნიერიინ ტელექტი - analyst + scientist + intelligence\n",
    "სტატისტიკამათემატიკაქ სელი - statistics + mathematics + network\n",
    "\"\"\"\n",
    "# 4x21c"
   ]
  },
  {
   "cell_type": "code",
   "execution_count": 72,
   "id": "0af5fa70",
   "metadata": {},
   "outputs": [
    {
     "data": {
      "text/plain": [
       "[('ა', 14),\n",
       " ('ი', 12),\n",
       " ('ნ', 8),\n",
       " ('მ', 7),\n",
       " ('ე', 6),\n",
       " ('ტ', 5),\n",
       " ('ო', 4),\n",
       " ('ს', 4),\n",
       " ('კ', 4),\n",
       " ('თ', 3),\n",
       " ('ც', 3),\n",
       " ('ვ', 3),\n",
       " ('ლ', 3),\n",
       " ('ქ', 2),\n",
       " ('დ', 1),\n",
       " ('ბ', 1),\n",
       " ('ჟ', 1),\n",
       " ('ზ', 1),\n",
       " ('უ', 1),\n",
       " ('რ', 1)]"
      ]
     },
     "execution_count": 72,
     "metadata": {},
     "output_type": "execute_result"
    }
   ],
   "source": [
    "georgian_mosaic = [\n",
    "    \"მანქანათმცოდნეობისინჟ\",\n",
    "    \"კვლევამონაცემთავიზუალ\",\n",
    "    \"ანალიტიკოსიმეცნიერიინ\",\n",
    "    \"სტატისტიკამათემატიკაქ\"\n",
    "]\n",
    "\n",
    "letters = {}\n",
    "\n",
    "for s in georgian_mosaic:\n",
    "    for a in s:\n",
    "        if a not in letters.keys():\n",
    "            letters[a] = 1\n",
    "        else:\n",
    "            letters[a] += 1\n",
    "\n",
    "sorted(letters.items(), key=lambda x: -x[1])"
   ]
  },
  {
   "cell_type": "code",
   "execution_count": 76,
   "id": "ee237e5d",
   "metadata": {},
   "outputs": [
    {
     "data": {
      "text/plain": [
       "True"
      ]
     },
     "execution_count": 76,
     "metadata": {},
     "output_type": "execute_result"
    }
   ],
   "source": [
    "collage_list = []\n",
    "\n",
    "for i, s in enumerate(georgian_mosaic):\n",
    "    cv2.imwrite(\"collage_full_\"+str(i)+\".png\", np.hstack(collage_by_string(s)))\n",
    "    collage_list.append(cv2.imread(\"collage_full_\"+str(i)+\".png\", cv2.IMREAD_GRAYSCALE))\n",
    "\n",
    "cv2.imwrite(\"collage_full_v.png\", np.vstack(collage_list))"
   ]
  },
  {
   "cell_type": "code",
   "execution_count": 78,
   "id": "84f8a050",
   "metadata": {},
   "outputs": [],
   "source": [
    "# mosaic_im = cv2.imread(\"collage_full_v.png\")\n",
    "# cv2.imshow(\"some\", mosaic_im)"
   ]
  },
  {
   "cell_type": "markdown",
   "id": "e49a1d2f",
   "metadata": {},
   "source": [
    "## 2.2. Adding highligth rectangles"
   ]
  },
  {
   "cell_type": "code",
   "execution_count": 77,
   "id": "3dc48658",
   "metadata": {},
   "outputs": [],
   "source": [
    "step = 32\n",
    "\n",
    "# coordinates of 1st frame (\"data\"): (6x32, 1x32)\n",
    "# coordinates of 2nd frame (\"scientist\"): (11x32, 2x32)\n",
    "\n",
    "# color wheel:\n",
    "# https://www.colorspire.com/rgb-color-wheel/\n",
    "# RGB -> (B, G, R)"
   ]
  },
  {
   "cell_type": "markdown",
   "id": "501d814d",
   "metadata": {},
   "source": [
    "### 2.2.1. First rectangle"
   ]
  },
  {
   "cell_type": "code",
   "execution_count": 32,
   "id": "0b50949a",
   "metadata": {},
   "outputs": [],
   "source": [
    "def drawing_rectangle_w_border(image_path, new_image_path, color, x, y, w, h, alpha, thickness):\n",
    "    mosaic_im = cv2.imread(image_path)\n",
    "    \n",
    "    # Rectangle parameters \n",
    "#     x, y, w, h = 6*32, 1*32, 9*32, 1*32\n",
    "\n",
    "    # 1. Rectangle\n",
    "    overlay = mosaic_im.copy() \n",
    "    # A filled rectangle \n",
    "    cv2.rectangle(overlay, (x, y), (x+w, y+h), color, -1)   \n",
    "\n",
    "#     alpha = 0.3  # Transparency factor. \n",
    "    # Following line overlays transparent rectangle over the image \n",
    "    mosaic_im_1 = cv2.addWeighted(overlay, alpha, mosaic_im, 1 - alpha, 0) \n",
    "\n",
    "    # 2. Border\n",
    "#     thickness = 2\n",
    "    start_point = (x + thickness, y + thickness) \n",
    "    end_point = (x + w - thickness, y + h - thickness) \n",
    "    mosaic_im_2 = cv2.rectangle(mosaic_im_1, start_point, end_point, color, thickness) \n",
    "\n",
    "    cv2.imwrite(new_image_path, mosaic_im_2)\n"
   ]
  },
  {
   "cell_type": "code",
   "execution_count": 33,
   "id": "afd25031",
   "metadata": {},
   "outputs": [],
   "source": [
    "image_path = \"collage_full_v.png\"\n",
    "new_image_path = \"collage_full_v_r1.png\"\n",
    "color = (0, 255, 0) # Green (BGR)\n",
    "x, y, w, h = 6*32, 1*32, 9*32, 1*32\n",
    "alpha = 0.3\n",
    "thickness = 2\n",
    "\n",
    "drawing_rectangle_w_border(image_path, new_image_path, color, x, y, w, h, alpha, thickness)"
   ]
  },
  {
   "cell_type": "code",
   "execution_count": 34,
   "id": "aacb693a",
   "metadata": {},
   "outputs": [],
   "source": [
    "image_path = \"collage_full_v_r1.png\"\n",
    "new_image_path = \"collage_full_v_r2.png\"\n",
    "color = (0, 255, 255) # Yellow (BGR)\n",
    "x, y, w, h = 11*32, 2*32, 8*32, 1*32\n",
    "alpha = 0.3\n",
    "thickness = 2\n",
    "\n",
    "drawing_rectangle_w_border(image_path, new_image_path, color, x, y, w, h, alpha, thickness)"
   ]
  },
  {
   "cell_type": "code",
   "execution_count": null,
   "id": "f383964a",
   "metadata": {},
   "outputs": [],
   "source": []
  },
  {
   "cell_type": "code",
   "execution_count": null,
   "id": "8f864efa",
   "metadata": {},
   "outputs": [],
   "source": []
  },
  {
   "cell_type": "code",
   "execution_count": null,
   "id": "403ca9d8",
   "metadata": {},
   "outputs": [],
   "source": []
  },
  {
   "cell_type": "code",
   "execution_count": null,
   "id": "e30652e3",
   "metadata": {},
   "outputs": [],
   "source": []
  },
  {
   "cell_type": "code",
   "execution_count": null,
   "id": "e96135f8",
   "metadata": {},
   "outputs": [],
   "source": []
  },
  {
   "cell_type": "code",
   "execution_count": null,
   "id": "8ffebdac",
   "metadata": {},
   "outputs": [],
   "source": []
  },
  {
   "cell_type": "code",
   "execution_count": null,
   "id": "080d1147",
   "metadata": {},
   "outputs": [],
   "source": []
  }
 ],
 "metadata": {
  "kernelspec": {
   "display_name": "Python 3 (ipykernel)",
   "language": "python",
   "name": "python3"
  },
  "language_info": {
   "codemirror_mode": {
    "name": "ipython",
    "version": 3
   },
   "file_extension": ".py",
   "mimetype": "text/x-python",
   "name": "python",
   "nbconvert_exporter": "python",
   "pygments_lexer": "ipython3",
   "version": "3.11.1"
  }
 },
 "nbformat": 4,
 "nbformat_minor": 5
}
